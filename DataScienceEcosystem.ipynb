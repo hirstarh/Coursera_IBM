{
 "cells": [
  {
   "cell_type": "markdown",
   "id": "4db222a9-87f5-4515-8f8c-3387392f2a79",
   "metadata": {},
   "source": [
    "# Data Science Tools and Ecosystem"
   ]
  },
  {
   "cell_type": "markdown",
   "id": "06a98980-a804-4d90-8e9a-90e584f02c3e",
   "metadata": {},
   "source": [
    "In this notebook, data Science Tools and Ecosystem are summarized\n"
   ]
  },
  {
   "cell_type": "markdown",
   "id": "ea5ffe97-e1c6-441a-a26c-2221163bc577",
   "metadata": {},
   "source": [
    "**Objectives**:-\n",
    "\n",
    "- Study of the languages Data scientists use\n",
    "- A look at GitHub explaning that GitHub is used for version control\n",
    "- The important skill sets of a person seeking a job in the Data Science industry"
   ]
  },
  {
   "cell_type": "markdown",
   "id": "6bf7f1de-f05e-4a90-83a6-7d5e29433124",
   "metadata": {},
   "source": [
    "Some of the popular languages that Data Scientists use are:\n",
    "\n",
    "1. Python\n",
    "2. R\n",
    "3. SQL\n"
   ]
  },
  {
   "cell_type": "markdown",
   "id": "cb0a1ee4-3529-4547-9b18-f29de760b4fa",
   "metadata": {},
   "source": [
    "Some of the commonly used libraries used by Data Scientists include:-\n",
    "\n",
    "1. Pandas\n",
    "2. Numpy\n",
    "3. Seaborn\n"
   ]
  },
  {
   "cell_type": "markdown",
   "id": "9cf81f66-1944-43a9-a928-5574ae4b9ea3",
   "metadata": {},
   "source": [
    "| Data Science Tools |\n",
    "| :----------------  |\n",
    "| Juypter Lab        |\n",
    "| Visual Studio Code |\n",
    "| RLab               |"
   ]
  },
  {
   "cell_type": "markdown",
   "id": "0a22c2e5-5848-44ca-ba3e-e7bba3451e04",
   "metadata": {},
   "source": [
    "### Below are a few examples of evaluating arithmetic expressions in Python ###"
   ]
  },
  {
   "cell_type": "code",
   "execution_count": 1,
   "id": "513115dc-5144-4c81-ad6a-78662ccf69da",
   "metadata": {},
   "outputs": [
    {
     "data": {
      "text/plain": [
       "17"
      ]
     },
     "execution_count": 1,
     "metadata": {},
     "output_type": "execute_result"
    }
   ],
   "source": [
    "# This is a simple arithmetic expression to multiply then add integers\n",
    "(3*4)+5"
   ]
  },
  {
   "cell_type": "code",
   "execution_count": 2,
   "id": "a7af77f1-4f20-40d6-8c1e-1bc40498dd09",
   "metadata": {},
   "outputs": [
    {
     "data": {
      "text/plain": [
       "3.3333333333333335"
      ]
     },
     "execution_count": 2,
     "metadata": {},
     "output_type": "execute_result"
    }
   ],
   "source": [
    "# This will convert 200 minutes to hours by dividing by 60\n",
    "\n",
    "200 / 60"
   ]
  },
  {
   "cell_type": "markdown",
   "id": "d380d77f-4399-4975-98ae-e0f83016d2d7",
   "metadata": {},
   "source": [
    "## Author ##\n",
    "Andrew Hirst"
   ]
  },
  {
   "cell_type": "code",
   "execution_count": null,
   "id": "c9b0718a-1c5d-4965-a8f9-ebb6fd9dc76e",
   "metadata": {},
   "outputs": [],
   "source": []
  }
 ],
 "metadata": {
  "kernelspec": {
   "display_name": "Python 3 (ipykernel)",
   "language": "python",
   "name": "python3"
  },
  "language_info": {
   "codemirror_mode": {
    "name": "ipython",
    "version": 3
   },
   "file_extension": ".py",
   "mimetype": "text/x-python",
   "name": "python",
   "nbconvert_exporter": "python",
   "pygments_lexer": "ipython3",
   "version": "3.11.7"
  }
 },
 "nbformat": 4,
 "nbformat_minor": 5
}
